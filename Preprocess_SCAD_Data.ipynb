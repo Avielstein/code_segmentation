{
 "cells": [
  {
   "cell_type": "code",
   "execution_count": 1,
   "metadata": {},
   "outputs": [],
   "source": [
    "import sqlite3 #database\n",
    "import os #general\n",
    "import time #general\n",
    "from tqdm import tqdm #inline progress bar (quality of life)\n",
    "\n",
    "import csv\n",
    "\n",
    "import numpy as np\n",
    "import math\n",
    "from matplotlib import pyplot as plt"
   ]
  },
  {
   "cell_type": "code",
   "execution_count": 2,
   "metadata": {},
   "outputs": [],
   "source": [
    "#returns all the rows of the databse as a triplit (filename, code, comment)\n",
    "def get_all_data():\n",
    "    #start timer\n",
    "    start = time.time()\n",
    "    \n",
    "    #connect to database\n",
    "    pwd = os.getcwd()\n",
    "    db_file = pwd+'/code_and_comments/all_data.db'\n",
    "    conn = sqlite3.connect(db_file)\n",
    "    \n",
    "    #get all the rows from the databse\n",
    "    cur = conn.cursor()\n",
    "    cur.execute(\"SELECT * FROM all_data\")\n",
    "    rows = cur.fetchall()\n",
    "    \n",
    "    #wrapp it up\n",
    "    conn.close()\n",
    "    end = time.time()\n",
    "    print(\"Completed in %d seconds\" % (end - start))\n",
    "    \n",
    "    return rows\n",
    "\n",
    "\n",
    "\n",
    "def show_hist(data,ma,mi):\n",
    "    bins = np.linspace(math.ceil(min(data)), \n",
    "                       math.floor(max(data)),\n",
    "                       ma-mi) # fixed number of bins\n",
    "\n",
    "    plt.xlim([min(data), max(data)])\n",
    "\n",
    "    plt.hist(data, bins=bins, alpha=0.5)\n",
    "    plt.title('Code Snippet length')\n",
    "    plt.xlabel('Number of Lines')\n",
    "    plt.ylabel('Number of Samples')\n",
    "\n",
    "    plt.show()\n",
    "    \n",
    "    \n",
    "def save_data(lang,code_sippets,comments,code_ma,text_ma):\n",
    "    print('saving data for langauge',lang,'...')\n",
    "    file_name = 'code-comment-'+str(lang)+'.csv'\n",
    "    with open(file_name, 'w', newline='') as file:\n",
    "        writer = csv.writer(file)\n",
    "        writer.writerow(['Code','Comment'])\n",
    "        for c in range(len(code_snippets)):\n",
    "            writer.writerow([code_snippets[c],comments[c]])\n",
    "\n",
    "#takes a dictionary and item for the purpose of counting number of items of that type\n",
    "def dic_count(dic, item):\n",
    "    if item in dic:\n",
    "        dic[item] = dic[item]+1\n",
    "    else:\n",
    "        dic[item] = 1\n",
    "    return dic\n",
    "    \n",
    "#returns the number of each extention in database\n",
    "def get_extention_stats(rows):\n",
    "    extention_count={}\n",
    "    for row in tqdm(rows):\n",
    "        filename = row[0]\n",
    "        extention = filename.split('.')[-1]\n",
    "        extention_count=dic_count(extention_count,extention)\n",
    "\n",
    "    print(extention_count)\n",
    "\n",
    "    \n",
    "def get_python_pairs(rows):\n",
    "    code_snippets = []\n",
    "    comments = []\n",
    "    too_big = 0\n",
    "    for row in tqdm(rows):\n",
    "        filename = row[0]\n",
    "        extention = filename.split('.')[-1]\n",
    "        if extention == 'py':\n",
    "            #limit the size\n",
    "            code_size = len(row[1])\n",
    "            comment_size = len(row[2])\n",
    "            if code_size<100 and code_size>10 and comment_size<100 and comment_size>10:\n",
    "                code_snippets.append(row[1])\n",
    "                comments.append(row[2])\n",
    "            else:\n",
    "                too_big+=1\n",
    "    print('Total pairs:',len(comments))\n",
    "    return code_snippets, comments\n",
    "\n",
    "\n",
    "    print(extention_count)\n",
    "    \n",
    "def get_code_pairs(rows, lang, max_code_chars, max_text_chars, max_lines, min_lines):\n",
    "    \n",
    "    #loop through code pairs\n",
    "    code_snippets = []\n",
    "    comments = []\n",
    "    data = []\n",
    "    \n",
    "    #for row in tqdm(rows[:100000]):\n",
    "    for row in tqdm(rows):\n",
    "        \n",
    "        #check code type\n",
    "        filename = row[0]\n",
    "        extention = filename.split('.')[-1]\n",
    "        if extention in lang:\n",
    "            \n",
    "            #limit the size\n",
    "            code_size    = len(row[1])\n",
    "            comment_size = len(row[2])\n",
    "            num_lines    = row[1].count('\\n')\n",
    "            \n",
    "            if code_size<max_code_chars and code_size>10:\n",
    "                if comment_size<max_text_chars and comment_size>10:\n",
    "                    if num_lines < max_lines and num_lines > min_lines:\n",
    "                        if '\\0' not in row[1] and '\\0' not in row[2]:\n",
    "                            code_snippets.append(row[1])\n",
    "                            comments.append(row[2])\n",
    "                            #code_snippets.append(row[1].replace('\\0',''))\n",
    "                            #comments.append(row[2].replace(,''))\n",
    "                            data.append(num_lines)\n",
    "\n",
    "    print('Total pairs:',len(comments))\n",
    "    #show_hist(data, max_lines, min_lines)\n",
    "    return code_snippets, comments\n"
   ]
  },
  {
   "cell_type": "code",
   "execution_count": 3,
   "metadata": {},
   "outputs": [
    {
     "name": "stderr",
     "output_type": "stream",
     "text": [
      "  0%|          | 26921/16115540 [00:00<00:59, 269175.60it/s]"
     ]
    },
    {
     "name": "stdout",
     "output_type": "stream",
     "text": [
      "Completed in 144 seconds\n",
      "number of samples: 16115540\n"
     ]
    },
    {
     "name": "stderr",
     "output_type": "stream",
     "text": [
      "100%|██████████| 16115540/16115540 [00:57<00:00, 278986.17it/s]\n"
     ]
    },
    {
     "name": "stdout",
     "output_type": "stream",
     "text": [
      "Show # of line histogram of our preprocessed data\n"
     ]
    },
    {
     "data": {
      "image/png": "[encoded data removed]",
      "text/plain": [
       "<Figure size 432x288 with 1 Axes>"
      ]
     },
     "metadata": {
      "needs_background": "light"
     },
     "output_type": "display_data"
    },
    {
     "name": "stderr",
     "output_type": "stream",
     "text": [
      "100%|██████████| 16115540/16115540 [00:10<00:00, 1500523.49it/s]\n"
     ]
    },
    {
     "name": "stdout",
     "output_type": "stream",
     "text": [
      "Total pairs: 384273\n",
      "saving data for langauge short_py ...\n"
     ]
    },
    {
     "name": "stderr",
     "output_type": "stream",
     "text": [
      "100%|██████████| 16115540/16115540 [00:09<00:00, 1614743.41it/s]\n"
     ]
    },
    {
     "name": "stdout",
     "output_type": "stream",
     "text": [
      "Total pairs: 1579745\n",
      "saving data for langauge short_cpp ...\n"
     ]
    },
    {
     "name": "stderr",
     "output_type": "stream",
     "text": [
      "100%|██████████| 16115540/16115540 [00:14<00:00, 1102631.71it/s]\n"
     ]
    },
    {
     "name": "stdout",
     "output_type": "stream",
     "text": [
      "Total pairs: 2234084\n",
      "saving data for langauge short_java ...\n"
     ]
    },
    {
     "name": "stderr",
     "output_type": "stream",
     "text": [
      "100%|██████████| 16115540/16115540 [00:21<00:00, 761740.41it/s]\n"
     ]
    },
    {
     "name": "stdout",
     "output_type": "stream",
     "text": [
      "Total pairs: 4198102\n",
      "saving data for langauge short_all ...\n"
     ]
    }
   ],
   "source": [
    "#short 0-5\n",
    "\n",
    "\n",
    "rows = get_all_data()\n",
    "print('number of samples:',len(rows))\n",
    "\n",
    "\n",
    "\n",
    "#iterate through the rows and getting suitable information info\n",
    "data=[]\n",
    "max_lines = 5\n",
    "min_lines = 0\n",
    "\n",
    "#for row in rows[:100000]:\n",
    "for row in tqdm(rows):\n",
    "    filename = row[0]\n",
    "    code = row[1]\n",
    "    comment = row[2] \n",
    "    #print(code.count('\\n'))\n",
    "    if code.count('\\n')>min_lines and code.count('\\n')<max_lines+1:\n",
    "        data.append(code.count('\\n'))\n",
    "        \n",
    "\n",
    "print('Show # of line histogram of our preprocessed data')\n",
    "show_hist(data,max_lines,min_lines)\n",
    "\n",
    "\n",
    "Python = ['py']\n",
    "CPP    = ['cpp','h']\n",
    "JAVA   = ['java']\n",
    "multi  = Python + CPP + JAVA\n",
    "\n",
    "max_code_chars = 500\n",
    "max_text_chars = 250\n",
    "\n",
    "#just python\n",
    "#code_snippets, comments = get_code_pairs(rows, multi, max_code_chars, max_text_chars, max_lines, min_lines)\n",
    "#save_data('py', code_snippets, comments,  max_code_chars, max_text_chars) #all\n",
    "\n",
    "#'''\n",
    "#individual languages\n",
    "for lang in [Python,CPP,JAVA]:\n",
    "    code_snippets, comments = get_code_pairs(rows, lang, max_code_chars, max_text_chars, max_lines, min_lines)\n",
    "    save_data('short_'+lang[0], code_snippets, comments,  max_code_chars, max_text_chars)\n",
    "\n",
    "    \n",
    "#multiple languagse\n",
    "code_snippets, comments = get_code_pairs(rows, multi, max_code_chars, max_text_chars, max_lines, min_lines)\n",
    "save_data('short_all', code_snippets, comments,  max_code_chars, max_text_chars) #all\n",
    "#'''"
   ]
  },
  {
   "cell_type": "code",
   "execution_count": 3,
   "metadata": {},
   "outputs": [
    {
     "name": "stderr",
     "output_type": "stream",
     "text": [
      "  0%|          | 56818/16115540 [00:00<00:28, 568175.12it/s]"
     ]
    },
    {
     "name": "stdout",
     "output_type": "stream",
     "text": [
      "Completed in 141 seconds\n",
      "number of samples: 16115540\n"
     ]
    },
    {
     "name": "stderr",
     "output_type": "stream",
     "text": [
      "100%|██████████| 16115540/16115540 [00:51<00:00, 314709.32it/s]\n"
     ]
    },
    {
     "name": "stdout",
     "output_type": "stream",
     "text": [
      "Show # of line histogram of our preprocessed data\n"
     ]
    },
    {
     "data": {
      "image/png": "[encoded data removed]",
      "text/plain": [
       "<Figure size 432x288 with 1 Axes>"
      ]
     },
     "metadata": {
      "needs_background": "light"
     },
     "output_type": "display_data"
    },
    {
     "name": "stderr",
     "output_type": "stream",
     "text": [
      "100%|██████████| 16115540/16115540 [00:10<00:00, 1494036.56it/s]\n"
     ]
    },
    {
     "name": "stdout",
     "output_type": "stream",
     "text": [
      "Total pairs: 1090471\n",
      "saving data for langauge medium_py ...\n"
     ]
    },
    {
     "name": "stderr",
     "output_type": "stream",
     "text": [
      "100%|██████████| 16115540/16115540 [00:09<00:00, 1678466.25it/s]\n"
     ]
    },
    {
     "name": "stdout",
     "output_type": "stream",
     "text": [
      "Total pairs: 648939\n",
      "saving data for langauge medium_cpp ...\n"
     ]
    },
    {
     "name": "stderr",
     "output_type": "stream",
     "text": [
      "100%|██████████| 16115540/16115540 [00:14<00:00, 1123430.66it/s]\n"
     ]
    },
    {
     "name": "stdout",
     "output_type": "stream",
     "text": [
      "Total pairs: 1030611\n",
      "saving data for langauge medium_java ...\n"
     ]
    },
    {
     "name": "stderr",
     "output_type": "stream",
     "text": [
      "100%|██████████| 16115540/16115540 [00:21<00:00, 767281.08it/s]\n"
     ]
    },
    {
     "name": "stdout",
     "output_type": "stream",
     "text": [
      "Total pairs: 2770021\n",
      "saving data for langauge medium_all ...\n"
     ]
    }
   ],
   "source": [
    "#med 3-10\n",
    "\n",
    "rows = get_all_data()\n",
    "print('number of samples:',len(rows))\n",
    "\n",
    "\n",
    "\n",
    "#iterate through the rows and getting suitable information info\n",
    "data=[]\n",
    "max_lines = 10\n",
    "min_lines = 3\n",
    "\n",
    "#for row in rows[:100000]:\n",
    "for row in tqdm(rows):\n",
    "    filename = row[0]\n",
    "    code = row[1]\n",
    "    comment = row[2] \n",
    "    #print(code.count('\\n'))\n",
    "    if code.count('\\n')>min_lines and code.count('\\n')<max_lines+1:\n",
    "        data.append(code.count('\\n'))\n",
    "        \n",
    "\n",
    "print('Show # of line histogram of our preprocessed data')\n",
    "show_hist(data,max_lines,min_lines)\n",
    "\n",
    "\n",
    "Python = ['py']\n",
    "CPP    = ['cpp','h']\n",
    "JAVA   = ['java']\n",
    "multi  = Python + CPP + JAVA\n",
    "\n",
    "max_code_chars = 500\n",
    "max_text_chars = 250\n",
    "\n",
    "#just python\n",
    "#code_snippets, comments = get_code_pairs(rows, multi, max_code_chars, max_text_chars, max_lines, min_lines)\n",
    "#save_data('py', code_snippets, comments,  max_code_chars, max_text_chars) #all\n",
    "\n",
    "#'''\n",
    "#individual languages\n",
    "for lang in [Python,CPP,JAVA]:\n",
    "    code_snippets, comments = get_code_pairs(rows, lang, max_code_chars, max_text_chars, max_lines, min_lines)\n",
    "    save_data('medium_'+lang[0], code_snippets, comments,  max_code_chars, max_text_chars)\n",
    "\n",
    "    \n",
    "#multiple languagse\n",
    "code_snippets, comments = get_code_pairs(rows, multi, max_code_chars, max_text_chars, max_lines, min_lines)\n",
    "save_data('medium_all', code_snippets, comments,  max_code_chars, max_text_chars) #all\n",
    "#'''"
   ]
  },
  {
   "cell_type": "code",
   "execution_count": 3,
   "metadata": {},
   "outputs": [
    {
     "name": "stderr",
     "output_type": "stream",
     "text": [
      "  0%|          | 24073/16115540 [00:00<01:06, 240723.34it/s]"
     ]
    },
    {
     "name": "stdout",
     "output_type": "stream",
     "text": [
      "Completed in 167 seconds\n",
      "number of samples: 16115540\n"
     ]
    },
    {
     "name": "stderr",
     "output_type": "stream",
     "text": [
      "100%|██████████| 16115540/16115540 [01:15<00:00, 212733.53it/s]\n"
     ]
    },
    {
     "name": "stdout",
     "output_type": "stream",
     "text": [
      "Show # of line histogram of our preprocessed data\n"
     ]
    },
    {
     "data": {
      "image/png": "[encoded data removed]",
      "text/plain": [
       "<Figure size 432x288 with 1 Axes>"
      ]
     },
     "metadata": {
      "needs_background": "light"
     },
     "output_type": "display_data"
    },
    {
     "name": "stderr",
     "output_type": "stream",
     "text": [
      "100%|██████████| 16115540/16115540 [00:22<00:00, 719013.15it/s]\n"
     ]
    },
    {
     "name": "stdout",
     "output_type": "stream",
     "text": [
      "Total pairs: 798480\n",
      "saving data for langauge py ...\n"
     ]
    },
    {
     "data": {
      "text/plain": [
       "\"\\n#individual languages\\nfor lang in [Python,CPP,JAVA]:\\n    code_snippets, comments = get_code_pairs(rows, lang, max_code_chars, max_text_chars, max_lines, min_lines)\\n    save_data('long_'+lang[0], code_snippets, comments,  max_code_chars, max_text_chars)\\n\\n    \\n#multiple languagse\\ncode_snippets, comments = get_code_pairs(rows, multi, max_code_chars, max_text_chars, max_lines, min_lines)\\nsave_data('long_all', code_snippets, comments,  max_code_chars, max_text_chars) #all\\n\""
      ]
     },
     "execution_count": 3,
     "metadata": {},
     "output_type": "execute_result"
    }
   ],
   "source": [
    "#long 10-20\n",
    "\n",
    "rows = get_all_data()\n",
    "print('number of samples:',len(rows))\n",
    "\n",
    "\n",
    "\n",
    "#iterate through the rows and getting suitable information info\n",
    "data=[]\n",
    "max_lines = 20\n",
    "min_lines = 10\n",
    "\n",
    "#for row in rows[:100000]:\n",
    "for row in tqdm(rows):\n",
    "    filename = row[0]\n",
    "    code = row[1]\n",
    "    comment = row[2] \n",
    "    #print(code.count('\\n'))\n",
    "    if code.count('\\n')>min_lines and code.count('\\n')<max_lines+1:\n",
    "        data.append(code.count('\\n'))\n",
    "        \n",
    "\n",
    "print('Show # of line histogram of our preprocessed data')\n",
    "show_hist(data,max_lines,min_lines)\n",
    "\n",
    "\n",
    "Python = ['py']\n",
    "CPP    = ['cpp','h']\n",
    "JAVA   = ['java']\n",
    "multi  = Python + CPP + JAVA\n",
    "\n",
    "max_code_chars = 500\n",
    "max_text_chars = 250\n",
    "\n",
    "#just python\n",
    "code_snippets, comments = get_code_pairs(rows, multi, max_code_chars, max_text_chars, max_lines, min_lines)\n",
    "save_data('py', code_snippets, comments,  max_code_chars, max_text_chars) #all\n",
    "\n",
    "'''\n",
    "#individual languages\n",
    "for lang in [Python,CPP,JAVA]:\n",
    "    code_snippets, comments = get_code_pairs(rows, lang, max_code_chars, max_text_chars, max_lines, min_lines)\n",
    "    save_data('long_'+lang[0], code_snippets, comments,  max_code_chars, max_text_chars)\n",
    "\n",
    "    \n",
    "#multiple languagse\n",
    "code_snippets, comments = get_code_pairs(rows, multi, max_code_chars, max_text_chars, max_lines, min_lines)\n",
    "save_data('long_all', code_snippets, comments,  max_code_chars, max_text_chars) #all\n",
    "'''"
   ]
  },
  {
   "cell_type": "code",
   "execution_count": 17,
   "metadata": {},
   "outputs": [
    {
     "data": {
      "text/plain": [
       "\"\\ntypes=[]\\nfor row in tqdm(rows[:1000000]):\\n    types.append(row[0].split('.')[-1])\\nfor t in set(types):\\n    print(t,types.count(t))\\n    \\n\""
      ]
     },
     "execution_count": 17,
     "metadata": {},
     "output_type": "execute_result"
    }
   ],
   "source": [
    "#get all extention types\n",
    "'''\n",
    "types=[]\n",
    "for row in tqdm(rows[:1000000]):\n",
    "    types.append(row[0].split('.')[-1])\n",
    "for t in set(types):\n",
    "    print(t,types.count(t))\n",
    "    \n",
    "'''\n",
    "\n",
    "#example of how ot iterate through the rows and getting info\n",
    "'''\n",
    "for row in rows[:100]:\n",
    "    filename = row[0]\n",
    "    code = row[1]\n",
    "    comment = row[2]  \n",
    "'''"
   ]
  }
 ],
 "metadata": {
  "kernelspec": {
   "display_name": "Python 3",
   "language": "python",
   "name": "python3"
  },
  "language_info": {
   "codemirror_mode": {
    "name": "ipython",
    "version": 3
   },
   "file_extension": ".py",
   "mimetype": "text/x-python",
   "name": "python",
   "nbconvert_exporter": "python",
   "pygments_lexer": "ipython3",
   "version": "3.6.10"
  }
 },
 "nbformat": 4,
 "nbformat_minor": 4
}
